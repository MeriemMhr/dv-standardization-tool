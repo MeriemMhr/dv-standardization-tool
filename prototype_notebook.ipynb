{
 "cells": [
  {
   "cell_type": "markdown",
   "id": "2f237da8",
   "metadata": {},
   "source": [
    "# Prototype Notebook: DV Standardization Tool\n",
    "This notebook is intended for testing logic, validating schema transformations, and iterating on the naming scheme used to standardize dependent variables in HCI datasets."
   ]
  },
  {
   "cell_type": "markdown",
   "id": "d550f46f",
   "metadata": {},
   "source": [
    "## Objectives\n",
    "- Load example datasets\n",
    "- Apply DV standardization using the `convert_dv.py` script logic\n",
    "- Validate outputs and explore edge cases\n",
    "- Prototype fuzzy matching and schema extension"
   ]
  },
  {
   "cell_type": "code",
   "execution_count": null,
   "id": "cb0bddaf",
   "metadata": {},
   "outputs": [],
   "source": [
    "# Standard libraries\n",
    "import pandas as pd\n",
    "import yaml\n",
    "from pathlib import Path\n",
    "\n",
    "# Optional: fuzzy matching (if used)\n",
    "# from rapidfuzz import fuzz"
   ]
  },
  {
   "cell_type": "markdown",
   "id": "15a46b81",
   "metadata": {},
   "source": [
    "## Load Example Dataset"
   ]
  },
  {
   "cell_type": "code",
   "execution_count": null,
   "id": "3a9c7e4d",
   "metadata": {},
   "outputs": [],
   "source": [
    "# Adjust the path as needed\n",
    "raw_path = Path('../data/raw/sample_dataset.csv')\n",
    "df_raw = pd.read_csv(raw_path)\n",
    "df_raw.head()"
   ]
  },
  {
   "cell_type": "markdown",
   "id": "f2c5442e",
   "metadata": {},
   "source": [
    "## Load Standardized DV Mapping Schema"
   ]
  },
  {
   "cell_type": "code",
   "execution_count": null,
   "id": "7d2556ba",
   "metadata": {},
   "outputs": [],
   "source": [
    "with open('../schemas/standard_dv_mapping.yaml', 'r') as file:\n",
    "    dv_schema = yaml.safe_load(file)\n",
    "dv_schema"
   ]
  },
  {
   "cell_type": "markdown",
   "id": "1dd41f4e",
   "metadata": {},
   "source": [
    "## Apply Renaming Logic"
   ]
  },
  {
   "cell_type": "code",
   "execution_count": null,
   "id": "ebc69872",
   "metadata": {},
   "outputs": [],
   "source": [
    "# Create a reverse alias map for demonstration purposes\n",
    "alias_map = {alias: std for std, aliases in dv_schema.items() for alias in aliases}\n",
    "\n",
    "# Rename columns in the dataset\n",
    "df_renamed = df_raw.rename(columns=lambda col: alias_map.get(col, col))\n",
    "df_renamed.head()"
   ]
  },
  {
   "cell_type": "markdown",
   "id": "173dede7",
   "metadata": {},
   "source": [
    "## Save Transformed Dataset"
   ]
  },
  {
   "cell_type": "code",
   "execution_count": null,
   "id": "f9a5640d",
   "metadata": {},
   "outputs": [],
   "source": [
    "output_path = Path('../data/processed/standardized_sample.csv')\n",
    "df_renamed.to_csv(output_path, index=False)"
   ]
  },
  {
   "cell_type": "markdown",
   "id": "51973741",
   "metadata": {},
   "source": [
    "## [Optional] Prototype Fuzzy Matching Logic"
   ]
  },
  {
   "cell_type": "code",
   "execution_count": null,
   "id": "03b8ca66",
   "metadata": {},
   "outputs": [],
   "source": [
    "# from rapidfuzz import process\n",
    "# Example fuzzy matching implementation here"
   ]
  },
  {
   "cell_type": "markdown",
   "id": "7450b219",
   "metadata": {},
   "source": [
    "## Summary\n",
    "This notebook demonstrates the use of a schema-based DV standardization tool in an HCI context. You can use this to test how robust your schema is and iterate on edge cases or unexpected naming variants."
   ]
  }
 ],
 "metadata": {},
 "nbformat": 4,
 "nbformat_minor": 5
}