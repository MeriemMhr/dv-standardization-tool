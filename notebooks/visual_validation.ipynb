{
 "cells": [
  {
   "cell_type": "markdown",
   "id": "90cb6f44",
   "metadata": {},
   "source": [
    "\n",
    "# Visual Validation of DV Standardization\n",
    "\n",
    "This notebook is designed to support the validation and qualitative inspection of standardized dependent variable (DV) mappings. It compares column names in raw vs. processed datasets, helping researchers visually confirm the effectiveness and coverage of the naming scheme.\n",
    "\n",
    "Use this notebook to:\n",
    "- Display side-by-side comparisons of column names before and after standardization\n",
    "- Visualize common or unresolved variable names\n",
    "- Identify patterns or inconsistencies for schema refinement\n"
   ]
  },
  {
   "cell_type": "code",
   "execution_count": null,
   "id": "584291f4",
   "metadata": {},
   "outputs": [],
   "source": [
    "\n",
    "import pandas as pd\n",
    "import matplotlib.pyplot as plt\n",
    "from pathlib import Path\n",
    "\n",
    "RAW_PATH = Path(\"../data/raw/\")\n",
    "PROCESSED_PATH = Path(\"../data/processed/\")\n"
   ]
  },
  {
   "cell_type": "markdown",
   "id": "948460f4",
   "metadata": {},
   "source": [
    "## Load Raw and Processed Datasets"
   ]
  },
  {
   "cell_type": "code",
   "execution_count": null,
   "id": "85a1d234",
   "metadata": {},
   "outputs": [],
   "source": [
    "\n",
    "# Select one file to validate\n",
    "filename = \"sample_dataset.csv\"\n",
    "raw_df = pd.read_csv(RAW_PATH / filename)\n",
    "processed_df = pd.read_csv(PROCESSED_PATH / f\"standardized_{filename}\")\n"
   ]
  },
  {
   "cell_type": "markdown",
   "id": "9bd76953",
   "metadata": {},
   "source": [
    "## Compare Column Names (Before vs After)"
   ]
  },
  {
   "cell_type": "code",
   "execution_count": null,
   "id": "16eeb758",
   "metadata": {},
   "outputs": [],
   "source": [
    "\n",
    "comparison_df = pd.DataFrame({\n",
    "    \"Original\": raw_df.columns,\n",
    "    \"Standardized\": processed_df.columns\n",
    "})\n",
    "comparison_df\n"
   ]
  },
  {
   "cell_type": "markdown",
   "id": "a5944173",
   "metadata": {},
   "source": [
    "## Visualize Distribution of Variable Names"
   ]
  },
  {
   "cell_type": "code",
   "execution_count": null,
   "id": "42d79dac",
   "metadata": {},
   "outputs": [],
   "source": [
    "\n",
    "# Count frequencies of column names (optional if dataset is small)\n",
    "raw_counts = raw_df.columns.value_counts()\n",
    "standardized_counts = processed_df.columns.value_counts()\n",
    "\n",
    "# Plot bar chart comparison (only if column names repeat)\n",
    "plt.figure(figsize=(10, 4))\n",
    "plt.bar(raw_counts.index, raw_counts.values, alpha=0.6, label=\"Raw\", color=\"gray\")\n",
    "plt.bar(standardized_counts.index, standardized_counts.values, alpha=0.6, label=\"Standardized\", color=\"green\")\n",
    "plt.title(\"Column Name Frequencies Before and After Standardization\")\n",
    "plt.xlabel(\"Column Name\")\n",
    "plt.ylabel(\"Count\")\n",
    "plt.xticks(rotation=45, ha='right')\n",
    "plt.legend()\n",
    "plt.tight_layout()\n",
    "plt.show()\n"
   ]
  },
  {
   "cell_type": "markdown",
   "id": "df5e155c",
   "metadata": {},
   "source": [
    "\n",
    "---\n",
    "\n",
    "## Summary\n",
    "\n",
    "This notebook enables manual and visual comparison of column names before and after schema-based standardization. You can use this to validate correctness, check for overlooked aliases, and refine the schema logic iteratively.\n",
    "\n",
    "Next step: Use this feedback to improve `standard_dv_mapping.yaml` or enhance the transformation script (`convert_dv.py`).\n"
   ]
  }
 ],
 "metadata": {},
 "nbformat": 4,
 "nbformat_minor": 5
}
