{
 "cells": [
  {
   "cell_type": "markdown",
   "id": "65fca01c",
   "metadata": {},
   "source": [
    "\n",
    "# Schema Builder Notebook\n",
    "\n",
    "This notebook is intended to support the iterative development of the `standard_dv_mapping.yaml` schema.  \n",
    "It allows users to:\n",
    "- Load raw datasets from the `data/raw/` folder\n",
    "- Extract and inspect column names\n",
    "- Identify and flag dependent variable (DV) names not covered by the existing schema\n",
    "- Suggest new alias-standard mappings\n",
    "- Export proposed additions for manual review or direct YAML update\n"
   ]
  },
  {
   "cell_type": "code",
   "execution_count": null,
   "id": "8fbc78f1",
   "metadata": {},
   "outputs": [],
   "source": [
    "\n",
    "import os\n",
    "import pandas as pd\n",
    "import yaml\n",
    "from collections import defaultdict\n",
    "\n",
    "RAW_DATA_PATH = \"../data/raw/\"\n",
    "SCHEMA_PATH = \"../schemas/standard_dv_mapping.yaml\"\n"
   ]
  },
  {
   "cell_type": "markdown",
   "id": "ba0f81fa",
   "metadata": {},
   "source": [
    "## Load and Preview Raw Datasets"
   ]
  },
  {
   "cell_type": "code",
   "execution_count": null,
   "id": "fa3748fe",
   "metadata": {},
   "outputs": [],
   "source": [
    "\n",
    "# List available datasets\n",
    "datasets = [f for f in os.listdir(RAW_DATA_PATH) if f.endswith(\".csv\")]\n",
    "datasets\n"
   ]
  },
  {
   "cell_type": "markdown",
   "id": "b46aaaa8",
   "metadata": {},
   "source": [
    "## Extract Column Names from Selected Dataset"
   ]
  },
  {
   "cell_type": "code",
   "execution_count": null,
   "id": "67165159",
   "metadata": {},
   "outputs": [],
   "source": [
    "\n",
    "# Choose a dataset (edit index if needed)\n",
    "df = pd.read_csv(os.path.join(RAW_DATA_PATH, datasets[0]))\n",
    "df.columns.tolist()\n"
   ]
  },
  {
   "cell_type": "markdown",
   "id": "ee7f17ee",
   "metadata": {},
   "source": [
    "## Load Current Schema"
   ]
  },
  {
   "cell_type": "code",
   "execution_count": null,
   "id": "25b82e63",
   "metadata": {},
   "outputs": [],
   "source": [
    "\n",
    "with open(SCHEMA_PATH, \"r\") as f:\n",
    "    schema = yaml.safe_load(f)\n",
    "\n",
    "# Flatten schema into list of all known aliases\n",
    "known_aliases = {alias for group in schema.values() for alias in group}\n",
    "known_aliases\n"
   ]
  },
  {
   "cell_type": "markdown",
   "id": "45261779",
   "metadata": {},
   "source": [
    "## Identify Columns Not Covered by Current Schema"
   ]
  },
  {
   "cell_type": "code",
   "execution_count": null,
   "id": "3f777c5d",
   "metadata": {},
   "outputs": [],
   "source": [
    "\n",
    "raw_columns = set(df.columns)\n",
    "unmatched = raw_columns - known_aliases\n",
    "unmatched\n"
   ]
  },
  {
   "cell_type": "markdown",
   "id": "0ca11d68",
   "metadata": {},
   "source": [
    "## Build Suggested Schema Extensions (Manual Input Recommended)"
   ]
  },
  {
   "cell_type": "code",
   "execution_count": null,
   "id": "8d7348cc",
   "metadata": {},
   "outputs": [],
   "source": [
    "\n",
    "# Suggest new mappings manually (example)\n",
    "suggestions = {\n",
    "    \"task_completion_time\": [\"time_spent\", \"completion_duration\"],\n",
    "    \"user_engagement_score\": [\"engagement_rating\", \"user_rating\"]\n",
    "}\n",
    "\n",
    "# Merge with existing schema\n",
    "updated_schema = schema.copy()\n",
    "for std_name, aliases in suggestions.items():\n",
    "    if std_name in updated_schema:\n",
    "        updated_schema[std_name].extend([a for a in aliases if a not in updated_schema[std_name]])\n",
    "    else:\n",
    "        updated_schema[std_name] = aliases\n",
    "\n",
    "# Preview updated schema\n",
    "updated_schema\n"
   ]
  },
  {
   "cell_type": "markdown",
   "id": "b94dfe95",
   "metadata": {},
   "source": [
    "## Export Updated Schema (Preview or Save)"
   ]
  },
  {
   "cell_type": "code",
   "execution_count": null,
   "id": "a3bf5885",
   "metadata": {},
   "outputs": [],
   "source": [
    "\n",
    "with open(\"../schemas/standard_dv_mapping_UPDATED.yaml\", \"w\") as f:\n",
    "    yaml.dump(updated_schema, f, sort_keys=False)\n",
    "\n",
    "print(\"✅ Updated schema exported to: schemas/standard_dv_mapping_UPDATED.yaml\")\n"
   ]
  },
  {
   "cell_type": "markdown",
   "id": "6040d701",
   "metadata": {},
   "source": [
    "\n",
    "---\n",
    "\n",
    "## Summary\n",
    "\n",
    "This notebook enables iterative schema building through structured alias review and suggestion. Use it to populate or refine your DV naming scheme based on multiple datasets.\n",
    "\n",
    "You may repeat the process across datasets to improve coverage and reuse.\n"
   ]
  }
 ],
 "metadata": {},
 "nbformat": 4,
 "nbformat_minor": 5
}
